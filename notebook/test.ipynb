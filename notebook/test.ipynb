{
 "cells": [
  {
   "cell_type": "code",
   "execution_count": 2,
   "metadata": {},
   "outputs": [
    {
     "name": "stdout",
     "output_type": "stream",
     "text": [
      "langchain==0.3.27\n",
      "python-dotenv==1.1.1\n",
      "langchain_core==0.3.75\n",
      "pydantic==2.11.7\n",
      "streamlit==1.49.1\n"
     ]
    }
   ],
   "source": [
    "import sys\n",
    "import importlib.metadata\n",
    "\n",
    "packages = [\n",
    "    \"langchain\",\n",
    "    \"python-dotenv\",\n",
    "    \"langchain_core\",\n",
    "    \"pydantic\",\n",
    "    \"streamlit\",\n",
    "]\n",
    "for pkg in packages:\n",
    "    try:\n",
    "        version = importlib.metadata.version(pkg)\n",
    "        print(f\"{pkg}=={version}\")\n",
    "    except importlib.metadata.PackageNotFoundError:\n",
    "        print(f\"{pkg} (not installed)\")\n"
   ]
  },
  {
   "cell_type": "code",
   "execution_count": 1,
   "metadata": {},
   "outputs": [
    {
     "name": "stdout",
     "output_type": "stream",
     "text": [
      "\n",
      "Python version: 3.10.18 (main, Jul  8 2025, 20:42:09) [Clang 20.1.4 ]\n"
     ]
    }
   ],
   "source": [
    "import sys\n",
    "print(\"\\nPython version:\", sys.version)"
   ]
  },
  {
   "cell_type": "code",
   "execution_count": null,
   "metadata": {},
   "outputs": [],
   "source": [
    "print(\"\\nInstalled packages:\" sys.)"
   ]
  }
 ],
 "metadata": {
  "kernelspec": {
   "display_name": "ecomm-product-assistant",
   "language": "python",
   "name": "python3"
  },
  "language_info": {
   "codemirror_mode": {
    "name": "ipython",
    "version": 3
   },
   "file_extension": ".py",
   "mimetype": "text/x-python",
   "name": "python",
   "nbconvert_exporter": "python",
   "pygments_lexer": "ipython3",
   "version": "3.10.18"
  }
 },
 "nbformat": 4,
 "nbformat_minor": 2
}
